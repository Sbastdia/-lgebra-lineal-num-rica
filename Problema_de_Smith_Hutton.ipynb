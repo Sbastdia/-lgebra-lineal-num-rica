{
  "nbformat": 4,
  "nbformat_minor": 0,
  "metadata": {
    "colab": {
      "provenance": [],
      "include_colab_link": true
    },
    "kernelspec": {
      "name": "python3",
      "display_name": "Python 3"
    },
    "language_info": {
      "name": "python"
    }
  },
  "cells": [
    {
      "cell_type": "markdown",
      "metadata": {
        "id": "view-in-github",
        "colab_type": "text"
      },
      "source": [
        "<a href=\"https://colab.research.google.com/github/Sbastdia/-lgebra-lineal-num-rica/blob/master/Problema_de_Smith_Hutton.ipynb\" target=\"_parent\"><img src=\"https://colab.research.google.com/assets/colab-badge.svg\" alt=\"Open In Colab\"/></a>"
      ]
    },
    {
      "cell_type": "markdown",
      "source": [
        "## PROBLEMA DE SMITH HUTTON"
      ],
      "metadata": {
        "id": "Ks2MrVnm1GT6"
      }
    },
    {
      "cell_type": "markdown",
      "source": [
        "\n",
        "En este post vamos a resolver el problema conocido como Smith-Hutton, en el que resolveremos la ecuación de convección 2D que ya conocemos del post anterior (en este caso nos interesa la solución estática final, sin evolución temporal).\n",
        "\n",
        "$$\n",
        "u \\phi_x + v \\phi_y = 0\n",
        "$$\n",
        "\n",
        "\n",
        "\n",
        "Se trata de un dominio rectangular en el cual tenemos una entrada por la parte inferior izquierda y una salida por la parte inferior derecha. El campo inicial de $\\phi$ estará a cero, por lo que el valor indicado a la entrada viajará hasta la salida debido al campo de velocidad circular definido. Ya que no hay viscosidad, deberíamos encontrar a la salida exactamente el mismo perfil que a la entrada. Este problem es muy útil para evaluar diferentes esquemas numéricos y sus propiedades.\n",
        "\n",
        "Es un problema bidimensional"
      ],
      "metadata": {
        "id": "ySU6IeaK1MXY"
      }
    },
    {
      "cell_type": "code",
      "execution_count": null,
      "metadata": {
        "id": "YMyYQMRB1FTN"
      },
      "outputs": [],
      "source": [
        "import numpy as np\n",
        "import math \n",
        "\n",
        "# condición inicial\n",
        "\n",
        "Lx, Ly, Nx, Ny = 2., 1., 5, 5\n",
        "dx, dy = Lx / Nx, Ly / Ny\n",
        "\n",
        "x = np.linspace(-1+0.5*dx,1-0.5*dx,Nx) \n",
        "y = np.linspace(0.5*dy,1-0.5*dy,Ny) \n",
        "xx, yy = np.meshgrid(x, y)\n",
        "\n",
        "p0 = np.zeros(Nx*Ny)"
      ]
    },
    {
      "cell_type": "code",
      "source": [
        "def velocity(x, y):\n",
        "    return 2.*y*(1.-x**2.), -2.*x*(1.-y**2.)"
      ],
      "metadata": {
        "id": "F6qyFx9w1W80"
      },
      "execution_count": null,
      "outputs": []
    },
    {
      "cell_type": "code",
      "source": [
        "import matplotlib.pyplot as plt\n",
        "\n",
        "u, v = velocity(xx, yy)\n",
        "\n",
        "fig, ax = plt.subplots()\n",
        "ax.quiver(xx,yy,u,v)\n",
        "ax.set_aspect('equal')\n",
        "plt.show()"
      ],
      "metadata": {
        "colab": {
          "base_uri": "https://localhost:8080/",
          "height": 215
        },
        "id": "5yRAQyzj1Zzg",
        "outputId": "f019c909-7e1c-4534-afb6-33dc42ed514e"
      },
      "execution_count": null,
      "outputs": [
        {
          "output_type": "display_data",
          "data": {
            "text/plain": [
              "<Figure size 432x288 with 1 Axes>"
            ],
            "image/png": "[encoded data removed]"
          },
          "metadata": {
            "needs_background": "light"
          }
        }
      ]
    },
    {
      "cell_type": "markdown",
      "source": [
        "Ejemplo del dominio en \"x\" y en \"y\". La diferencia es que aquí el campo de velocidades es semicircular. Esto nos permite definir cualquier perfil de \"phi\" a la entrada (la parte de la \"x\" negativa) y evaluar su resultado en la salida (la parte de la \"x\" positiva).\n",
        "Como este flujo de velocidad es circular, cualquier cosa que nosotros pongamos a la entrada, tiene que ser simétrica a la salida. Esta es otra manera de evaluar métodos numéricos. Es decir, si lo que encontramos a la salida no corresponde con lo que tenemos a la entrada, estamos haciendo algo mal."
      ],
      "metadata": {
        "id": "eE45VfyYpt_5"
      }
    },
    {
      "cell_type": "code",
      "source": [
        "import torch\n",
        "import torch.nn as nn\n",
        "\n",
        "class Sine(nn.Module):\n",
        "    def __init__(self):\n",
        "        super().__init__()\n",
        "    def forward(self, x):\n",
        "        return torch.sin(x)\n",
        "\n",
        "#red neuronal con dos entradas (x,y) y una salida. Esta tiene más capas como podemos observar.\n",
        "mlp = nn.Sequential(\n",
        "    nn.Linear(2, 100),\n",
        "    Sine(), \n",
        "    nn.Linear(100, 100), \n",
        "    Sine(),\n",
        "    nn.Linear(100, 100), \n",
        "    Sine(),\n",
        "    nn.Linear(100, 100), \n",
        "    Sine(),\n",
        "    nn.Linear(100, 1)\n",
        ")"
      ],
      "metadata": {
        "id": "tSHMh-Pq1jjI"
      },
      "execution_count": null,
      "outputs": []
    },
    {
      "cell_type": "code",
      "source": [
        "from fastprogress.fastprogress import master_bar, progress_bar\n",
        "import math \n",
        "\n",
        "N_STEPS = 10000\n",
        "N_SAMPLES = 200\n",
        "N_SAMPLES_0 = 100\n",
        "\n",
        "optimizer = torch.optim.Adam(mlp.parameters())\n",
        "criterion = torch.nn.MSELoss()\n",
        "mlp.train()\n",
        "a = 10\n",
        "\n",
        "mb = progress_bar(range(1, N_STEPS+1))\n",
        "\n",
        "for step in mb:\n",
        "\n",
        "    # optimizamos para PDE\n",
        "    x = torch.rand(N_SAMPLES)*2. - 1.\n",
        "    y = torch.rand(N_SAMPLES)\n",
        "    X = torch.stack([  \n",
        "        x, \n",
        "        y,\n",
        "    ], axis=-1)\n",
        "    X.requires_grad = True\n",
        "    y_hat = mlp(X) # N, P \n",
        "    grads, = torch.autograd.grad(y_hat, X, grad_outputs=y_hat.data.new(y_hat.shape).fill_(1), create_graph=True, only_inputs=True)\n",
        "    dpdx, dpdy = grads[:,0], grads[:,1]\n",
        "    u, v = velocity(X[:,0], X[:,1])\n",
        "    pde_loss = criterion(u*dpdx, - v*dpdy) \n",
        "    \n",
        "    # optimizamos para condiciones de contorno\n",
        "    # izquierda\n",
        "    y = torch.rand(N_SAMPLES_0)\n",
        "    Y0 = torch.stack([  \n",
        "        torch.zeros(N_SAMPLES_0) - 1., \n",
        "        y,\n",
        "    ], axis=-1)\n",
        "    p_y0 = 1. - torch.ones(len(Y0))*math.tanh(a)\n",
        "    y_y0 = mlp(Y0) \n",
        "    y0_loss = criterion(y_y0, p_y0.unsqueeze(1))\n",
        "    # derecha\n",
        "    Y1 = torch.stack([  \n",
        "        torch.ones(N_SAMPLES_0), \n",
        "        y,\n",
        "    ], axis=-1)\n",
        "    p_y1 = 1. - torch.ones(len(Y1))*math.tanh(a)\n",
        "    y_y1 = mlp(Y1) \n",
        "    y1_loss = criterion(y_y1, p_y1.unsqueeze(1))\n",
        "    # arriba\n",
        "    x = torch.rand(N_SAMPLES_0)*2. - 1.\n",
        "    X1 = torch.stack([  \n",
        "        x, \n",
        "        torch.ones(N_SAMPLES_0),\n",
        "    ], axis=-1)\n",
        "    p_x1 = 1. - torch.ones(len(X1))*math.tanh(a)\n",
        "    y_x1 = mlp(X1) \n",
        "    x1_loss = criterion(y_x1, p_x1.unsqueeze(1))\n",
        "    # abajo(izquierda)\n",
        "    x = torch.rand(N_SAMPLES_0) - 1.\n",
        "    X00 = torch.stack([  \n",
        "        x, \n",
        "        torch.zeros(N_SAMPLES_0),\n",
        "    ], axis=-1)\n",
        "    p_x00 = 1. + torch.tanh(a*(2.*x + 1.))\n",
        "    y_x00 = mlp(X00) \n",
        "    x00_loss = criterion(y_x00, p_x00.unsqueeze(1))\n",
        "    # abajo(derecha)\n",
        "    x = torch.rand(N_SAMPLES_0)\n",
        "    X01 = torch.stack([  \n",
        "        x, \n",
        "        torch.zeros(N_SAMPLES_0),\n",
        "    ], axis=-1)\n",
        "    X01.requires_grad = True\n",
        "    y_x01 = mlp(X01) \n",
        "    grads, = torch.autograd.grad(y_x01, X01, grad_outputs=y_x01.data.new(y_x01.shape).fill_(1), create_graph=True, only_inputs=True)\n",
        "    dpdy = grads[:,1]\n",
        "    x01_loss = criterion(dpdy, torch.zeros(len(dpdy), 1))  \n",
        "\n",
        "    bound_loss = x00_loss + y0_loss + y1_loss + x1_loss + x01_loss\n",
        "    \n",
        "    # actualizamos\n",
        "    optimizer.zero_grad()\n",
        "    loss = pde_loss + bound_loss\n",
        "    loss.backward()\n",
        "    optimizer.step()\n",
        "    \n",
        "    mb.comment = f'pde_loss {pde_loss.item():.5f} bound_loss {bound_loss.item():.5f}'"
      ],
      "metadata": {
        "colab": {
          "base_uri": "https://localhost:8080/",
          "height": 93
        },
        "id": "R7ykALE_195Y",
        "outputId": "86a2b896-654c-4352-c2ef-e5450bf865b9"
      },
      "execution_count": null,
      "outputs": [
        {
          "output_type": "display_data",
          "data": {
            "text/plain": [
              "<IPython.core.display.HTML object>"
            ],
            "text/html": [
              "\n",
              "<style>\n",
              "    /* Turns off some styling */\n",
              "    progress {\n",
              "        /* gets rid of default border in Firefox and Opera. */\n",
              "        border: none;\n",
              "        /* Needs to be in here for Safari polyfill so background images work as expected. */\n",
              "        background-size: auto;\n",
              "    }\n",
              "    progress:not([value]), progress:not([value])::-webkit-progress-bar {\n",
              "        background: repeating-linear-gradient(45deg, #7e7e7e, #7e7e7e 10px, #5c5c5c 10px, #5c5c5c 20px);\n",
              "    }\n",
              "    .progress-bar-interrupted, .progress-bar-interrupted::-webkit-progress-bar {\n",
              "        background: #F44336;\n",
              "    }\n",
              "</style>\n"
            ]
          },
          "metadata": {}
        },
        {
          "output_type": "display_data",
          "data": {
            "text/plain": [
              "<IPython.core.display.HTML object>"
            ],
            "text/html": [
              "\n",
              "    <div>\n",
              "      <progress value='10000' class='' max='10000' style='width:300px; height:20px; vertical-align: middle;'></progress>\n",
              "      100.00% [10000/10000 02:15&lt;00:00 pde_loss 0.00035 bound_loss 0.00030]\n",
              "    </div>\n",
              "    "
            ]
          },
          "metadata": {}
        },
        {
          "output_type": "stream",
          "name": "stderr",
          "text": [
            "/usr/local/lib/python3.8/dist-packages/torch/nn/modules/loss.py:536: UserWarning: Using a target size (torch.Size([100, 1])) that is different to the input size (torch.Size([100])). This will likely lead to incorrect results due to broadcasting. Please ensure they have the same size.\n",
            "  return F.mse_loss(input, target, reduction=self.reduction)\n"
          ]
        }
      ]
    },
    {
      "cell_type": "code",
      "source": [
        "def run_mlp(Nx, Ny):\n",
        "    x = np.linspace(-1,1,Nx)\n",
        "    y = np.linspace(0,1,Ny)\n",
        "    X = np.stack(np.meshgrid(x,y), -1).reshape(-1, 2)\n",
        "    X = torch.from_numpy(X).float()\n",
        "    mlp.eval()\n",
        "    with torch.no_grad():\n",
        "        p = mlp(X)\n",
        "    return p, x"
      ],
      "metadata": {
        "id": "HAxyLxFl2h1k"
      },
      "execution_count": null,
      "outputs": []
    },
    {
      "cell_type": "code",
      "source": [
        "Nx, Ny = 100, 50\n",
        "p, x = run_mlp(Nx, Ny)\n",
        "\n",
        "plt.figure(dpi=100)\n",
        "plt.imshow(p.reshape(Ny,Nx), vmin=p.min(), vmax=p.max(), origin='lower',\n",
        "           extent=[x.min(), x.max(), y.min(), y.max()])\n",
        "plt.xlabel('x')\n",
        "plt.ylabel('y    ', rotation=math.pi)\n",
        "plt.colorbar()\n",
        "plt.show()"
      ],
      "metadata": {
        "colab": {
          "base_uri": "https://localhost:8080/",
          "height": 349
        },
        "id": "A5qhOg4V2m6o",
        "outputId": "e963dcf7-0424-41a0-c757-df381d27c3b3"
      },
      "execution_count": null,
      "outputs": [
        {
          "output_type": "display_data",
          "data": {
            "text/plain": [
              "<Figure size 600x400 with 2 Axes>"
            ],
            "image/png": "[encoded data removed]"
          },
          "metadata": {
            "needs_background": "light"
          }
        }
      ]
    },
    {
      "cell_type": "markdown",
      "source": [
        "Este es el resultado que obtenemos al utilizar un perfil a la entrada que sea como un escalón (valor bajo en -1 y valor alto en 0). Como vemos, a la salida tenemos el resultado simétrico."
      ],
      "metadata": {
        "id": "YwblgZzUrabS"
      }
    },
    {
      "cell_type": "markdown",
      "source": [
        "##AÑADIENDO VISCOSIDAD\n"
      ],
      "metadata": {
        "id": "Sc1lTDO13sS5"
      }
    },
    {
      "cell_type": "markdown",
      "source": [
        "\n",
        "A continuacion vamos resolver el mismo problema pero añadiendo viscosida`. La constante $\\Gamma$ controlará cuánta viscosidad queremos en el problema. Además, ahora tenemos derivadas segundas. Gracias a Pytorch, calcular estas derivadas es muy sencillo.\n",
        "\n",
        "$$\n",
        "u \\phi_x + v \\phi_y = \\Gamma (\\phi_{xx} + \\phi_{yy})\n",
        "$$"
      ],
      "metadata": {
        "id": "oxoCzMwI3ynI"
      }
    },
    {
      "cell_type": "code",
      "source": [
        "mlp = nn.Sequential(\n",
        "    nn.Linear(2, 100),\n",
        "    Sine(), \n",
        "    nn.Linear(100, 100), \n",
        "    Sine(),\n",
        "    nn.Linear(100, 100), \n",
        "    Sine(),\n",
        "    nn.Linear(100, 100), \n",
        "    Sine(),\n",
        "    nn.Linear(100, 1)\n",
        ")"
      ],
      "metadata": {
        "id": "F3JhjHJK4Fv4"
      },
      "execution_count": null,
      "outputs": []
    },
    {
      "cell_type": "code",
      "source": [
        "N_STEPS = 10000\n",
        "N_SAMPLES = 200\n",
        "N_SAMPLES_0 = 100\n",
        "\n",
        "optimizer = torch.optim.Adam(mlp.parameters())\n",
        "criterion = torch.nn.MSELoss()\n",
        "mlp.train()\n",
        "a = 10\n",
        "g = 0.1\n",
        "\n",
        "mb = progress_bar(range(1, N_STEPS+1))\n",
        "\n",
        "for step in mb:\n",
        "\n",
        "    # optimizamos para PDE\n",
        "    x = torch.rand(N_SAMPLES)*2. - 1.\n",
        "    y = torch.rand(N_SAMPLES)\n",
        "    X = torch.stack([  \n",
        "        x, \n",
        "        y,\n",
        "    ], axis=-1)\n",
        "    X.requires_grad = True\n",
        "    y_hat = mlp(X) # N, P \n",
        "    grads, = torch.autograd.grad(y_hat, X, grad_outputs=y_hat.data.new(y_hat.shape).fill_(1), create_graph=True, only_inputs=True)\n",
        "    dpdx, dpdy = grads[:,0], grads[:,1]\n",
        "    u, v = velocity(X[:,0], X[:,1])\n",
        "    grads2, = torch.autograd.grad(dpdx, X, grad_outputs=dpdx.data.new(dpdx.shape).fill_(1), create_graph=True, only_inputs=True)\n",
        "    dp2dx2 = grads2[:,0]\n",
        "    grads2, = torch.autograd.grad(dpdy, X, grad_outputs=dpdy.data.new(dpdy.shape).fill_(1), create_graph=True, only_inputs=True)\n",
        "    dp2dy2 = grads2[:,1]\n",
        "    pde_loss = criterion(u*dpdx + v*dpdy, g*(dp2dx2 + dp2dy2)) \n",
        "    \n",
        "    # optimizamos para condiciones de contorno\n",
        "    # izquierda\n",
        "    y = torch.rand(N_SAMPLES_0)\n",
        "    Y0 = torch.stack([  \n",
        "        torch.zeros(N_SAMPLES_0) - 1., \n",
        "        y,\n",
        "    ], axis=-1)\n",
        "    p_y0 = 1. - torch.ones(len(Y0))*math.tanh(a)\n",
        "    y_y0 = mlp(Y0) \n",
        "    y0_loss = criterion(y_y0, p_y0.unsqueeze(1))\n",
        "    # derecha\n",
        "    Y1 = torch.stack([  \n",
        "        torch.ones(N_SAMPLES_0), \n",
        "        y,\n",
        "    ], axis=-1)\n",
        "    p_y1 = 1. - torch.ones(len(Y1))*math.tanh(a)\n",
        "    y_y1 = mlp(Y1) \n",
        "    y1_loss = criterion(y_y1, p_y1.unsqueeze(1))\n",
        "    # arriba\n",
        "    x = torch.rand(N_SAMPLES_0)*2. - 1.\n",
        "    X1 = torch.stack([  \n",
        "        x, \n",
        "        torch.ones(N_SAMPLES_0),\n",
        "    ], axis=-1)\n",
        "    p_x1 = 1. - torch.ones(len(X1))*math.tanh(a)\n",
        "    y_x1 = mlp(X1) \n",
        "    x1_loss = criterion(y_x1, p_x1.unsqueeze(1))\n",
        "    # abajo(izquierda)\n",
        "    x = torch.rand(N_SAMPLES_0) - 1.\n",
        "    X00 = torch.stack([  \n",
        "        x, \n",
        "        torch.zeros(N_SAMPLES_0),\n",
        "    ], axis=-1)\n",
        "    p_x00 = 1. + torch.tanh(a*(2.*x + 1.))\n",
        "    y_x00 = mlp(X00) \n",
        "    x00_loss = criterion(y_x00, p_x00.unsqueeze(1))\n",
        "    # abajo(derecha)\n",
        "    x = torch.rand(N_SAMPLES_0)\n",
        "    X01 = torch.stack([  \n",
        "        x, \n",
        "        torch.zeros(N_SAMPLES_0),\n",
        "    ], axis=-1)\n",
        "    X01.requires_grad = True\n",
        "    y_x01 = mlp(X01) \n",
        "    grads, = torch.autograd.grad(y_x01, X01, grad_outputs=y_x01.data.new(y_x01.shape).fill_(1), create_graph=True, only_inputs=True)\n",
        "    dpdy = grads[:,1]\n",
        "    x01_loss = criterion(dpdy, torch.zeros(len(dpdy), 1))  \n",
        "\n",
        "    bound_loss = x00_loss + y0_loss + y1_loss + x1_loss + x01_loss\n",
        "    \n",
        "    # actualizamos\n",
        "    optimizer.zero_grad()\n",
        "    loss = pde_loss + bound_loss\n",
        "    loss.backward()\n",
        "    optimizer.step()\n",
        "    \n",
        "    mb.comment = f'pde_loss {pde_loss.item():.5f} bound_loss {bound_loss.item():.5f}'"
      ],
      "metadata": {
        "colab": {
          "base_uri": "https://localhost:8080/",
          "height": 37
        },
        "id": "dqCyW4Cq2puv",
        "outputId": "2a98107e-3e21-4d16-f14f-8b3316eaa7eb"
      },
      "execution_count": null,
      "outputs": [
        {
          "output_type": "display_data",
          "data": {
            "text/plain": [
              "<IPython.core.display.HTML object>"
            ],
            "text/html": [
              "\n",
              "<style>\n",
              "    /* Turns off some styling */\n",
              "    progress {\n",
              "        /* gets rid of default border in Firefox and Opera. */\n",
              "        border: none;\n",
              "        /* Needs to be in here for Safari polyfill so background images work as expected. */\n",
              "        background-size: auto;\n",
              "    }\n",
              "    progress:not([value]), progress:not([value])::-webkit-progress-bar {\n",
              "        background: repeating-linear-gradient(45deg, #7e7e7e, #7e7e7e 10px, #5c5c5c 10px, #5c5c5c 20px);\n",
              "    }\n",
              "    .progress-bar-interrupted, .progress-bar-interrupted::-webkit-progress-bar {\n",
              "        background: #F44336;\n",
              "    }\n",
              "</style>\n"
            ]
          },
          "metadata": {}
        },
        {
          "output_type": "display_data",
          "data": {
            "text/plain": [
              "<IPython.core.display.HTML object>"
            ],
            "text/html": [
              "\n",
              "    <div>\n",
              "      <progress value='10000' class='' max='10000' style='width:300px; height:20px; vertical-align: middle;'></progress>\n",
              "      100.00% [10000/10000 03:48&lt;00:00 pde_loss 0.02787 bound_loss 0.01220]\n",
              "    </div>\n",
              "    "
            ]
          },
          "metadata": {}
        }
      ]
    },
    {
      "cell_type": "code",
      "source": [
        "Nx, Ny = 100, 50\n",
        "p, x = run_mlp(Nx, Ny)\n",
        "\n",
        "plt.figure(dpi=100)\n",
        "plt.imshow(p.reshape(Ny,Nx), vmin=p.min(), vmax=p.max(), origin='lower',\n",
        "           extent=[x.min(), x.max(), y.min(), y.max()])\n",
        "plt.xlabel('x')\n",
        "plt.ylabel('y    ', rotation=math.pi)\n",
        "plt.colorbar()\n",
        "plt.show()"
      ],
      "metadata": {
        "colab": {
          "base_uri": "https://localhost:8080/",
          "height": 345
        },
        "id": "ZoAwpwp35mOp",
        "outputId": "d8022b97-503f-4c48-f853-9e737fd0ed88"
      },
      "execution_count": null,
      "outputs": [
        {
          "output_type": "display_data",
          "data": {
            "text/plain": [
              "<Figure size 600x400 with 2 Axes>"
            ],
            "image/png": "[encoded data removed]"
          },
          "metadata": {
            "needs_background": "light"
          }
        }
      ]
    },
    {
      "cell_type": "markdown",
      "source": [
        "El hecho de usar una Red Neuronal como solución del problema nos permitiría incluso añadir el factor de viscosidad como input resolviendo un gran rango de casos a la vez, acelerando el proceso de optimización."
      ],
      "metadata": {
        "id": "3fSQ9CPv52uz"
      }
    }
  ]
}